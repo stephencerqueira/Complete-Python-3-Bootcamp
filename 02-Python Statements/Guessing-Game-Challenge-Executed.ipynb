{
 "cells": [
  {
   "cell_type": "markdown",
   "metadata": {},
   "source": [
    "# Guessing Game Challenge\n",
    "\n",
    "Let's use `while` loops to create a guessing game.\n",
    "\n",
    "The Challenge:\n",
    "\n",
    "Write a program that picks a random integer from 1 to 100, and has players guess the number. The rules are:\n",
    "\n",
    "1. If a player's guess is less than 1 or greater than 100, say \"OUT OF BOUNDS\"\n",
    "2. On a player's first turn, if their guess is\n",
    " * within 10 of the number, return \"WARM!\"\n",
    " * further than 10 away from the number, return \"COLD!\"\n",
    "3. On all subsequent turns, if a guess is \n",
    " * closer to the number than the previous guess return \"WARMER!\"\n",
    " * farther from the number than the previous guess, return \"COLDER!\"\n",
    "4. When the player's guess equals the number, tell them they've guessed correctly *and* how many guesses it took!\n",
    "\n",
    "You can try this from scratch, or follow the steps outlined below. A separate Solution notebook has been provided. Good luck!\n"
   ]
  },
  {
   "cell_type": "markdown",
   "metadata": {},
   "source": [
    "#### First, pick a random integer from 1 to 100 using the random module and assign it to a variable\n",
    "\n",
    "Note: `random.randint(a,b)` returns a random integer in range `[a, b]`, including both end points."
   ]
  },
  {
   "cell_type": "code",
   "execution_count": 2,
   "metadata": {},
   "outputs": [],
   "source": [
    "import random\n",
    "\n",
    "num = random.randint(1,100)"
   ]
  },
  {
   "cell_type": "markdown",
   "metadata": {},
   "source": [
    "#### Next, print an introduction to the game and explain the rules"
   ]
  },
  {
   "cell_type": "code",
   "execution_count": 3,
   "metadata": {},
   "outputs": [
    {
     "name": "stdout",
     "output_type": "stream",
     "text": [
      "Hello! Welcome to The Guessing Game!\n",
      "My name is Stephen. I will be your guide for this game.\n",
      "The objective of this game is very simple: correctly guess the number to win the game!\n",
      "A random number will be generated between 1 and 100 (including numbers 1 and 100).\n",
      "You will have as many tries as you need to correctly guess the number.\n",
      "I will help you in your quest to guess the right number.\n",
      "If your guess is not within 10 of the right number, I will notify you that you are COLD.\n",
      "If your guess is within 10 of the right number, I will notify you that you are WARM.\n",
      "Once you are WARM, I will notify you if your subsequent guesses are closer or farther from the correct number.\n",
      "I will return COLDER when your following guesses get farther away from the correct number.\n",
      "I will return WARMER when your following guesses get closer to the correct number.\n",
      "Now that you know all the rules, let's play The Guessing Game!\n"
     ]
    }
   ],
   "source": [
    "print(\"Hello! Welcome to The Guessing Game!\")\n",
    "print(\"My name is Stephen. I will be your guide for this game.\")\n",
    "print(\"The objective of this game is very simple: correctly guess the number to win the game!\")\n",
    "print(\"A random number will be generated between 1 and 100 (including numbers 1 and 100).\")\n",
    "print(\"You will have as many tries as you need to correctly guess the number.\")\n",
    "print(\"I will help you in your quest to guess the right number.\")\n",
    "print(\"If your guess is not within 10 of the right number, I will notify you that you are COLD.\")\n",
    "print(\"If your guess is within 10 of the right number, I will notify you that you are WARM.\")\n",
    "print(\"Once you are WARM, I will notify you if your subsequent guesses are closer or farther from the correct number.\")\n",
    "print(\"I will return COLDER when your following guesses get farther away from the correct number.\")\n",
    "print(\"I will return WARMER when your following guesses get closer to the correct number.\")\n",
    "print(\"Now that you know all the rules, let's play The Guessing Game!\")"
   ]
  },
  {
   "cell_type": "markdown",
   "metadata": {},
   "source": [
    "#### Create a list to store guesses\n",
    "\n",
    "Hint: zero is a good placeholder value. It's useful because it evaluates to \"False\""
   ]
  },
  {
   "cell_type": "code",
   "execution_count": 4,
   "metadata": {},
   "outputs": [],
   "source": [
    "guesses = [0]"
   ]
  },
  {
   "cell_type": "markdown",
   "metadata": {},
   "source": [
    "#### Write a `while` loop that asks for a valid guess. Test it a few times to make sure it works."
   ]
  },
  {
   "cell_type": "code",
   "execution_count": null,
   "metadata": {},
   "outputs": [],
   "source": [
    "while True:\n",
    "\n",
    "    guess = int(input(\"A number has been selected between 1 and 100.\\n What is your guess? \"))\n",
    "    \n",
    "    if guess < 1 or guess > 100:\n",
    "        print(\"You have not guessed a number between 1 and 100. Please try again. \")\n",
    "        continue\n",
    "    \n",
    "    break"
   ]
  },
  {
   "cell_type": "markdown",
   "metadata": {},
   "source": [
    "#### Write a `while` loop that compares the player's guess to our number. If the player guesses correctly, break from the loop. Otherwise, tell the player if they're warmer or colder, and continue asking for guesses.\n",
    "\n",
    "Some hints:\n",
    "* it may help to sketch out all possible combinations on paper first!\n",
    "* you can use the `abs()` function to find the positive difference between two numbers\n",
    "* if you append all new guesses to the list, then the previous guess is given as `guesses[-2]`"
   ]
  },
  {
   "cell_type": "code",
   "execution_count": 5,
   "metadata": {},
   "outputs": [
    {
     "name": "stdout",
     "output_type": "stream",
     "text": [
      "A number has been selected between 1 and 100.\n",
      " What is your guess? 50\n",
      "You are COLD!\n",
      "A number has been selected between 1 and 100.\n",
      " What is your guess? 75\n",
      "Winner! You have correctly guessed 75 and it only took you 2 attempt(s). Well done!\n"
     ]
    }
   ],
   "source": [
    "while True:\n",
    "\n",
    "    guess = int(input(\"A number has been selected between 1 and 100.\\n What is your guess? \"))\n",
    "    \n",
    "    if guess < 1 or guess > 100:\n",
    "        print(\"You have not guessed a number between 1 and 100. Please try again. \")\n",
    "       \n",
    "        continue\n",
    "    \n",
    "    if guess == num:\n",
    "        print(f\"Winner! You have correctly guessed {num} and it only took you {len(guesses)} attempt(s). Well done!\")\n",
    "        \n",
    "        break\n",
    "        \n",
    "    guesses.append(guess)\n",
    "        \n",
    "    if guesses[-2]:\n",
    "        \n",
    "        if abs(num - guess) < abs(num - guesses[-2]):\n",
    "            print(\"You are getting WARMER!\")\n",
    "        \n",
    "        else:\n",
    "            print(\"You are getting COLDER!\")\n",
    "        \n",
    "    else:\n",
    "        \n",
    "        if abs(num - guess) <= 10:\n",
    "            print(\"You are WARM!\")\n",
    "        else:\n",
    "            print(\"You are COLD!\")\n",
    "        \n",
    "    pass"
   ]
  },
  {
   "cell_type": "markdown",
   "metadata": {},
   "source": [
    "That's it! You've just programmed your first game!\n",
    "\n",
    "In the next section we'll learn how to turn some of these repetitive actions into *functions* that can be called whenever we need them."
   ]
  },
  {
   "cell_type": "markdown",
   "metadata": {},
   "source": [
    "### Good Job!"
   ]
  }
 ],
 "metadata": {
  "kernelspec": {
   "display_name": "Python 3",
   "language": "python",
   "name": "python3"
  },
  "language_info": {
   "codemirror_mode": {
    "name": "ipython",
    "version": 3
   },
   "file_extension": ".py",
   "mimetype": "text/x-python",
   "name": "python",
   "nbconvert_exporter": "python",
   "pygments_lexer": "ipython3",
   "version": "3.7.0"
  }
 },
 "nbformat": 4,
 "nbformat_minor": 2
}
